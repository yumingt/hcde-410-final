{
 "cells": [
  {
   "cell_type": "markdown",
   "id": "f78d2988-4b14-4081-98d4-39a1b20bca1c",
   "metadata": {},
   "source": [
    "# Project Overview:\n",
    "The goal of this analysis is to investigate the relationship between education and income in the United States for the year of 2021, specifically focusing on how this relationship varies across race and gender. This analysis is important because education and income are key indicators of socioeconomic status, and understanding the patterns and disparities in this relationship can inform policy decisions aimed at reducing inequality. This analysis is potentially interesting and useful from a human-centered perspective because it can show how different groups are impacted by socioeconomic inequality, and can inform interventions aimed at reducing these disparities.\n",
    "\n",
    "## Research Questions\n",
    "1. How does the relationship between education and income vary among different racial groups in the United States? Are there significant disparities in income levels based on educational attainment within each racial group?\n",
    "2. Is there a gender-based wage gap in the United States, and does this gap differ across educational levels? How does the relationship between education and income differ between males and females?\n",
    "3. Does the impact of educational attainment on income differ between racial groups? For example, do individuals from certain racial backgrounds experience a larger income increase for each level of education compared to others?\n",
    "\n",
    "## Hypothesis\n",
    "H1: Individuals from racial groups with historically lower average incomes, such as African Americans and Hispanics, will face income disparities even when comparing individuals with similar educational attainment within their respective racial groups.\n",
    "\n",
    "H2: There is a gender-based wage gap in the United States, and the disparity increases as educational levels decrease.\n",
    "\n",
    "H3: The impact of educational attainment on income will vary across racial groups, with some groups experiencing a larger income increase for each level of education compared to others.\n",
    "\n",
    "# Data selected for analysis:\n",
    "The dataset used for this analysis is the American Community Survey (ACS) Public Use Microdata Sample (PUMS) data for the year of 2021, which is available on the US Census Bureau website. This dataset includes detailed information on individuals and households, including educational attainment, income, race, gender, age, and other demographic characteristics. The dataset is publicly available and can be accessed at the following link: https://www.census.gov/programs-surveys/acs/microdata/access.html. The dataset is made available under the Open Government License, which allows for free use, reproduction, and distribution of the data.\n",
    "\n",
    "The ACS PUMS dataset is useful in addressing the problem statement because it is representative of the United States population, and includes a large sample size that allows for meaningful analysis. However, the possible ethical considerations to using this dataset is that it includes sensitive personal information. To address these concerns, the data is anonymized and aggregated at the household and individual levels, and access to the data is restricted to authorized personnel.\n",
    "\n",
    "In the data analysis, I will use measures such as mean, median, and standard deviation to describe the distribution of income and education by race and gender. I will use correlation analysis and linear regression to identify the association between education and income for each demographic group.\n",
    "\n",
    "# Background and Related Work\n",
    "Previous research has provided valuable insights into the relationship between education and income in the United States, as well as the disparities that exist across race and gender. Several studies have examined the impact of education on income, highlighting the importance of educational attainment in socioeconomic outcomes.\n",
    "\n",
    "For instance, a study conducted by Carneiro and Heckman (2003)[1] found that education significantly affects individuals' earnings and long-term outcomes, such as employment rates and job stability. The study emphasized the positive relationship between educational attainment and income, suggesting that higher levels of education are associated with higher earnings.\n",
    "\n",
    "Moreover, research on the gender wage gap has demonstrated persistent disparities in income between men and women. According to Blau and Kahn (2017)[2], even after accounting for factors such as education, experience, and occupation, a gender wage gap still exists, indicating that women, on average, earn less than men.\n",
    "\n",
    "Furthermore, racial disparities in income have been extensively studied. A study by Chetty et al. (2018)[3] examined intergenerational income mobility across racial and ethnic groups in the United States. The research revealed substantial variation in upward mobility, with individuals from certain racial backgrounds experiencing lower levels of upward mobility compared to others.\n",
    "\n",
    "The existing research informs my decision to do this project by highlighting the significance of investigating the relationship between education and income across race and gender. The findings of previous studies provide a foundation for my research questions and hypotheses, allowing me to explore specific dimensions of educational attainment and income disparities. By building upon the existing knowledge, I aim to contribute to the understanding of socioeconomic inequalities and inform potential interventions to reduce disparities.\n",
    "\n",
    "## References:\n",
    "[1] Carneiro, P., & Heckman, J. J. (2003). Human Capital Policy. National Bureau of Economic Research. Retrieved from https://www.nber.org/papers/w9495\n",
    "\n",
    "[2] Blau, F. D., & Kahn, L. M. (2017). The gender wage gap: Extent, trends, and explanations. Journal of Economic Literature, 55(3), 789-865. doi: 10.1257/jel.20160995\n",
    "\n",
    "[3] Chetty, R., Hendren, N., Jones, M. R., & Porter, S. R. (2018). Race and economic opportunity in the United States: An intergenerational perspective. The Quarterly Journal of Economics, 133(2), 697-747. doi: 10.1093/qje/qjy004\n",
    "\n",
    "# Methodology\n",
    "## Analytical Method:\n",
    "I will conduct subgroup analysis to explore variations in the education-income relationship within demographic groups of race and gender. This will involve running separate analyses for different racial and gender groups to understand how the relationship manifests within each subgroup.\n",
    "\n",
    "## Presentation Method:\n",
    "To present my findings, I will use data visualizations, such as bar charts and line graphs, to illustrate the distribution of educational attainment and income across race and gender. I will also use stacked bar charts to showcase variations in the education-income relationship among subgroups.\n",
    "\n",
    "## Appropriateness and Usefulness of Methods:\n",
    "Subgroup analysis aligns with my research questions by allowing me to investigate the relationship between education and income across race and gender. Data visualizations will enhance the presentation of my findings by offering visual representations of the data. The combination of these methods will provide a comprehensive exploration of the relationship between education and income across race and gender, and will aid in presenting the findings in a clear and concise manner, enhancing the overall understanding of the research outcomes.\n",
    "\n",
    "# Unknowns and dependencies:\n",
    "One factor outside of my control that might impact my ability to complete this project before the end of the quarter is the complexity of the analysis required to fully understand the relationship between education and income across different demographic groups. Additionally, the data cleaning and preprocessing required to analyze the data might take a lot of time, and there might be missing or incomplete data that could impact the accuracy of the results.\n",
    "\n",
    "# Feedback from colleagues:\n",
    "It might be helpful to find alternative or complementary datasets that could be used to strengthen the findings in this project."
   ]
  },
  {
   "cell_type": "code",
   "execution_count": 1,
   "id": "30742bb6-603c-46e6-bc65-177e7b811e29",
   "metadata": {},
   "outputs": [
    {
     "ename": "KeyError",
     "evalue": "\"None of [Index(['SCHL', 'PINCP'], dtype='object')] are in the [columns]\"",
     "output_type": "error",
     "traceback": [
      "\u001b[0;31m---------------------------------------------------------------------------\u001b[0m",
      "\u001b[0;31mKeyError\u001b[0m                                  Traceback (most recent call last)",
      "\u001b[0;32m/tmp/ipykernel_58/2598145611.py\u001b[0m in \u001b[0;36m<module>\u001b[0;34m\u001b[0m\n\u001b[1;32m      9\u001b[0m \u001b[0meducation_column\u001b[0m \u001b[0;34m=\u001b[0m \u001b[0;34m'SCHL'\u001b[0m  \u001b[0;31m# Replace with the actual column name for education\u001b[0m\u001b[0;34m\u001b[0m\u001b[0;34m\u001b[0m\u001b[0m\n\u001b[1;32m     10\u001b[0m \u001b[0mincome_column\u001b[0m \u001b[0;34m=\u001b[0m \u001b[0;34m'PINCP'\u001b[0m  \u001b[0;31m# Replace with the actual column name for income\u001b[0m\u001b[0;34m\u001b[0m\u001b[0;34m\u001b[0m\u001b[0m\n\u001b[0;32m---> 11\u001b[0;31m \u001b[0mdf_subset\u001b[0m \u001b[0;34m=\u001b[0m \u001b[0mdf\u001b[0m\u001b[0;34m[\u001b[0m\u001b[0;34m[\u001b[0m\u001b[0meducation_column\u001b[0m\u001b[0;34m,\u001b[0m \u001b[0mincome_column\u001b[0m\u001b[0;34m]\u001b[0m\u001b[0;34m]\u001b[0m\u001b[0;34m.\u001b[0m\u001b[0mdropna\u001b[0m\u001b[0;34m(\u001b[0m\u001b[0;34m)\u001b[0m  \u001b[0;31m# Remove rows with missing values\u001b[0m\u001b[0;34m\u001b[0m\u001b[0;34m\u001b[0m\u001b[0m\n\u001b[0m\u001b[1;32m     12\u001b[0m \u001b[0;34m\u001b[0m\u001b[0m\n\u001b[1;32m     13\u001b[0m \u001b[0;31m# Create the bar chart\u001b[0m\u001b[0;34m\u001b[0m\u001b[0;34m\u001b[0m\u001b[0m\n",
      "\u001b[0;32m/opt/conda/lib/python3.9/site-packages/pandas/core/frame.py\u001b[0m in \u001b[0;36m__getitem__\u001b[0;34m(self, key)\u001b[0m\n\u001b[1;32m   3462\u001b[0m             \u001b[0;32mif\u001b[0m \u001b[0mis_iterator\u001b[0m\u001b[0;34m(\u001b[0m\u001b[0mkey\u001b[0m\u001b[0;34m)\u001b[0m\u001b[0;34m:\u001b[0m\u001b[0;34m\u001b[0m\u001b[0;34m\u001b[0m\u001b[0m\n\u001b[1;32m   3463\u001b[0m                 \u001b[0mkey\u001b[0m \u001b[0;34m=\u001b[0m \u001b[0mlist\u001b[0m\u001b[0;34m(\u001b[0m\u001b[0mkey\u001b[0m\u001b[0;34m)\u001b[0m\u001b[0;34m\u001b[0m\u001b[0;34m\u001b[0m\u001b[0m\n\u001b[0;32m-> 3464\u001b[0;31m             \u001b[0mindexer\u001b[0m \u001b[0;34m=\u001b[0m \u001b[0mself\u001b[0m\u001b[0;34m.\u001b[0m\u001b[0mloc\u001b[0m\u001b[0;34m.\u001b[0m\u001b[0m_get_listlike_indexer\u001b[0m\u001b[0;34m(\u001b[0m\u001b[0mkey\u001b[0m\u001b[0;34m,\u001b[0m \u001b[0maxis\u001b[0m\u001b[0;34m=\u001b[0m\u001b[0;36m1\u001b[0m\u001b[0;34m)\u001b[0m\u001b[0;34m[\u001b[0m\u001b[0;36m1\u001b[0m\u001b[0;34m]\u001b[0m\u001b[0;34m\u001b[0m\u001b[0;34m\u001b[0m\u001b[0m\n\u001b[0m\u001b[1;32m   3465\u001b[0m \u001b[0;34m\u001b[0m\u001b[0m\n\u001b[1;32m   3466\u001b[0m         \u001b[0;31m# take() does not accept boolean indexers\u001b[0m\u001b[0;34m\u001b[0m\u001b[0;34m\u001b[0m\u001b[0m\n",
      "\u001b[0;32m/opt/conda/lib/python3.9/site-packages/pandas/core/indexing.py\u001b[0m in \u001b[0;36m_get_listlike_indexer\u001b[0;34m(self, key, axis)\u001b[0m\n\u001b[1;32m   1312\u001b[0m             \u001b[0mkeyarr\u001b[0m\u001b[0;34m,\u001b[0m \u001b[0mindexer\u001b[0m\u001b[0;34m,\u001b[0m \u001b[0mnew_indexer\u001b[0m \u001b[0;34m=\u001b[0m \u001b[0max\u001b[0m\u001b[0;34m.\u001b[0m\u001b[0m_reindex_non_unique\u001b[0m\u001b[0;34m(\u001b[0m\u001b[0mkeyarr\u001b[0m\u001b[0;34m)\u001b[0m\u001b[0;34m\u001b[0m\u001b[0;34m\u001b[0m\u001b[0m\n\u001b[1;32m   1313\u001b[0m \u001b[0;34m\u001b[0m\u001b[0m\n\u001b[0;32m-> 1314\u001b[0;31m         \u001b[0mself\u001b[0m\u001b[0;34m.\u001b[0m\u001b[0m_validate_read_indexer\u001b[0m\u001b[0;34m(\u001b[0m\u001b[0mkeyarr\u001b[0m\u001b[0;34m,\u001b[0m \u001b[0mindexer\u001b[0m\u001b[0;34m,\u001b[0m \u001b[0maxis\u001b[0m\u001b[0;34m)\u001b[0m\u001b[0;34m\u001b[0m\u001b[0;34m\u001b[0m\u001b[0m\n\u001b[0m\u001b[1;32m   1315\u001b[0m \u001b[0;34m\u001b[0m\u001b[0m\n\u001b[1;32m   1316\u001b[0m         if needs_i8_conversion(ax.dtype) or isinstance(\n",
      "\u001b[0;32m/opt/conda/lib/python3.9/site-packages/pandas/core/indexing.py\u001b[0m in \u001b[0;36m_validate_read_indexer\u001b[0;34m(self, key, indexer, axis)\u001b[0m\n\u001b[1;32m   1372\u001b[0m                 \u001b[0;32mif\u001b[0m \u001b[0muse_interval_msg\u001b[0m\u001b[0;34m:\u001b[0m\u001b[0;34m\u001b[0m\u001b[0;34m\u001b[0m\u001b[0m\n\u001b[1;32m   1373\u001b[0m                     \u001b[0mkey\u001b[0m \u001b[0;34m=\u001b[0m \u001b[0mlist\u001b[0m\u001b[0;34m(\u001b[0m\u001b[0mkey\u001b[0m\u001b[0;34m)\u001b[0m\u001b[0;34m\u001b[0m\u001b[0;34m\u001b[0m\u001b[0m\n\u001b[0;32m-> 1374\u001b[0;31m                 \u001b[0;32mraise\u001b[0m \u001b[0mKeyError\u001b[0m\u001b[0;34m(\u001b[0m\u001b[0;34mf\"None of [{key}] are in the [{axis_name}]\"\u001b[0m\u001b[0;34m)\u001b[0m\u001b[0;34m\u001b[0m\u001b[0;34m\u001b[0m\u001b[0m\n\u001b[0m\u001b[1;32m   1375\u001b[0m \u001b[0;34m\u001b[0m\u001b[0m\n\u001b[1;32m   1376\u001b[0m             \u001b[0mnot_found\u001b[0m \u001b[0;34m=\u001b[0m \u001b[0mlist\u001b[0m\u001b[0;34m(\u001b[0m\u001b[0mensure_index\u001b[0m\u001b[0;34m(\u001b[0m\u001b[0mkey\u001b[0m\u001b[0;34m)\u001b[0m\u001b[0;34m[\u001b[0m\u001b[0mmissing_mask\u001b[0m\u001b[0;34m.\u001b[0m\u001b[0mnonzero\u001b[0m\u001b[0;34m(\u001b[0m\u001b[0;34m)\u001b[0m\u001b[0;34m[\u001b[0m\u001b[0;36m0\u001b[0m\u001b[0;34m]\u001b[0m\u001b[0;34m]\u001b[0m\u001b[0;34m.\u001b[0m\u001b[0munique\u001b[0m\u001b[0;34m(\u001b[0m\u001b[0;34m)\u001b[0m\u001b[0;34m)\u001b[0m\u001b[0;34m\u001b[0m\u001b[0;34m\u001b[0m\u001b[0m\n",
      "\u001b[0;31mKeyError\u001b[0m: \"None of [Index(['SCHL', 'PINCP'], dtype='object')] are in the [columns]\""
     ]
    }
   ],
   "source": []
  },
  {
   "cell_type": "code",
   "execution_count": null,
   "id": "b6dcd9ad-309f-4453-a372-9b1577e57c0d",
   "metadata": {},
   "outputs": [],
   "source": []
  },
  {
   "cell_type": "code",
   "execution_count": null,
   "id": "c1ead6eb-8808-41af-ae70-a9fa88571041",
   "metadata": {},
   "outputs": [],
   "source": []
  },
  {
   "cell_type": "code",
   "execution_count": null,
   "id": "6d45e25f-2901-43e0-a109-ed554a2e8acd",
   "metadata": {},
   "outputs": [],
   "source": []
  }
 ],
 "metadata": {
  "kernelspec": {
   "display_name": "Python 3 (ipykernel)",
   "language": "python",
   "name": "python3"
  },
  "language_info": {
   "codemirror_mode": {
    "name": "ipython",
    "version": 3
   },
   "file_extension": ".py",
   "mimetype": "text/x-python",
   "name": "python",
   "nbconvert_exporter": "python",
   "pygments_lexer": "ipython3",
   "version": "3.9.7"
  }
 },
 "nbformat": 4,
 "nbformat_minor": 5
}
